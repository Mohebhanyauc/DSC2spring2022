{
 "cells": [
  {
   "cell_type": "markdown",
   "id": "a597545c",
   "metadata": {},
   "source": [
    "# MOHEB TODARY 900212311 ASSIGNMENT 1 "
   ]
  },
  {
   "cell_type": "markdown",
   "id": "23d4c084",
   "metadata": {},
   "source": [
    "This data set is all about giving observations on cars and giving it's price at the end.\n",
    "This could be used in machine learning; to predict the prices of the cars or to set a price to a new car according to its specifications.\n",
    "Throughout this paper, I will analyze cars data using a dataset named, \"AutoData.csv\" from kaggle.com. \n",
    "This dataset contains multiple observations of cars with its different specification including variables such as horsepower, fuelsystems and car dimentions.\n",
    "I will start by analyzing each continuous variable on its own then dig deeper into the correlations between relavent variables. Then I will explore the discrete variables and interpret them. \n",
    "\n"
   ]
  },
  {
   "cell_type": "markdown",
   "id": "ee1d7366",
   "metadata": {},
   "source": [
    "### Intro to the data "
   ]
  },
  {
   "cell_type": "code",
   "execution_count": 191,
   "id": "a3afe949",
   "metadata": {
    "scrolled": true
   },
   "outputs": [
    {
     "data": {
      "text/html": [
       "<div>\n",
       "<style scoped>\n",
       "    .dataframe tbody tr th:only-of-type {\n",
       "        vertical-align: middle;\n",
       "    }\n",
       "\n",
       "    .dataframe tbody tr th {\n",
       "        vertical-align: top;\n",
       "    }\n",
       "\n",
       "    .dataframe thead th {\n",
       "        text-align: right;\n",
       "    }\n",
       "</style>\n",
       "<table border=\"1\" class=\"dataframe\">\n",
       "  <thead>\n",
       "    <tr style=\"text-align: right;\">\n",
       "      <th></th>\n",
       "      <th>symboling</th>\n",
       "      <th>make</th>\n",
       "      <th>fueltype</th>\n",
       "      <th>aspiration</th>\n",
       "      <th>doornumber</th>\n",
       "      <th>carbody</th>\n",
       "      <th>drivewheel</th>\n",
       "      <th>enginelocation</th>\n",
       "      <th>wheelbase</th>\n",
       "      <th>carlength</th>\n",
       "      <th>...</th>\n",
       "      <th>enginesize</th>\n",
       "      <th>fuelsystem</th>\n",
       "      <th>boreratio</th>\n",
       "      <th>stroke</th>\n",
       "      <th>compressionratio</th>\n",
       "      <th>horsepower</th>\n",
       "      <th>peakrpm</th>\n",
       "      <th>citympg</th>\n",
       "      <th>highwaympg</th>\n",
       "      <th>price</th>\n",
       "    </tr>\n",
       "  </thead>\n",
       "  <tbody>\n",
       "    <tr>\n",
       "      <th>0</th>\n",
       "      <td>3</td>\n",
       "      <td>alfa-romero giulia</td>\n",
       "      <td>gas</td>\n",
       "      <td>std</td>\n",
       "      <td>two</td>\n",
       "      <td>convertible</td>\n",
       "      <td>rwd</td>\n",
       "      <td>front</td>\n",
       "      <td>88.6</td>\n",
       "      <td>168.8</td>\n",
       "      <td>...</td>\n",
       "      <td>130</td>\n",
       "      <td>mpfi</td>\n",
       "      <td>3.47</td>\n",
       "      <td>2.68</td>\n",
       "      <td>9.0</td>\n",
       "      <td>111</td>\n",
       "      <td>5000</td>\n",
       "      <td>21</td>\n",
       "      <td>27</td>\n",
       "      <td>13495.0</td>\n",
       "    </tr>\n",
       "    <tr>\n",
       "      <th>1</th>\n",
       "      <td>3</td>\n",
       "      <td>alfa-romero stelvio</td>\n",
       "      <td>gas</td>\n",
       "      <td>std</td>\n",
       "      <td>two</td>\n",
       "      <td>convertible</td>\n",
       "      <td>rwd</td>\n",
       "      <td>front</td>\n",
       "      <td>88.6</td>\n",
       "      <td>168.8</td>\n",
       "      <td>...</td>\n",
       "      <td>130</td>\n",
       "      <td>mpfi</td>\n",
       "      <td>3.47</td>\n",
       "      <td>2.68</td>\n",
       "      <td>9.0</td>\n",
       "      <td>111</td>\n",
       "      <td>5000</td>\n",
       "      <td>21</td>\n",
       "      <td>27</td>\n",
       "      <td>16500.0</td>\n",
       "    </tr>\n",
       "    <tr>\n",
       "      <th>2</th>\n",
       "      <td>1</td>\n",
       "      <td>alfa-romero Quadrifoglio</td>\n",
       "      <td>gas</td>\n",
       "      <td>std</td>\n",
       "      <td>two</td>\n",
       "      <td>hatchback</td>\n",
       "      <td>rwd</td>\n",
       "      <td>front</td>\n",
       "      <td>94.5</td>\n",
       "      <td>171.2</td>\n",
       "      <td>...</td>\n",
       "      <td>152</td>\n",
       "      <td>mpfi</td>\n",
       "      <td>2.68</td>\n",
       "      <td>3.47</td>\n",
       "      <td>9.0</td>\n",
       "      <td>154</td>\n",
       "      <td>5000</td>\n",
       "      <td>19</td>\n",
       "      <td>26</td>\n",
       "      <td>16500.0</td>\n",
       "    </tr>\n",
       "    <tr>\n",
       "      <th>3</th>\n",
       "      <td>2</td>\n",
       "      <td>audi 100 ls</td>\n",
       "      <td>gas</td>\n",
       "      <td>std</td>\n",
       "      <td>four</td>\n",
       "      <td>sedan</td>\n",
       "      <td>fwd</td>\n",
       "      <td>front</td>\n",
       "      <td>99.8</td>\n",
       "      <td>176.6</td>\n",
       "      <td>...</td>\n",
       "      <td>109</td>\n",
       "      <td>mpfi</td>\n",
       "      <td>3.19</td>\n",
       "      <td>3.40</td>\n",
       "      <td>10.0</td>\n",
       "      <td>102</td>\n",
       "      <td>5500</td>\n",
       "      <td>24</td>\n",
       "      <td>30</td>\n",
       "      <td>13950.0</td>\n",
       "    </tr>\n",
       "    <tr>\n",
       "      <th>4</th>\n",
       "      <td>2</td>\n",
       "      <td>audi 100ls</td>\n",
       "      <td>gas</td>\n",
       "      <td>std</td>\n",
       "      <td>four</td>\n",
       "      <td>sedan</td>\n",
       "      <td>4wd</td>\n",
       "      <td>front</td>\n",
       "      <td>99.4</td>\n",
       "      <td>176.6</td>\n",
       "      <td>...</td>\n",
       "      <td>136</td>\n",
       "      <td>mpfi</td>\n",
       "      <td>3.19</td>\n",
       "      <td>3.40</td>\n",
       "      <td>8.0</td>\n",
       "      <td>115</td>\n",
       "      <td>5500</td>\n",
       "      <td>18</td>\n",
       "      <td>22</td>\n",
       "      <td>17450.0</td>\n",
       "    </tr>\n",
       "  </tbody>\n",
       "</table>\n",
       "<p>5 rows × 25 columns</p>\n",
       "</div>"
      ],
      "text/plain": [
       "   symboling                      make fueltype aspiration doornumber  \\\n",
       "0          3        alfa-romero giulia      gas        std        two   \n",
       "1          3       alfa-romero stelvio      gas        std        two   \n",
       "2          1  alfa-romero Quadrifoglio      gas        std        two   \n",
       "3          2               audi 100 ls      gas        std       four   \n",
       "4          2                audi 100ls      gas        std       four   \n",
       "\n",
       "       carbody drivewheel enginelocation  wheelbase  carlength  ...  \\\n",
       "0  convertible        rwd          front       88.6      168.8  ...   \n",
       "1  convertible        rwd          front       88.6      168.8  ...   \n",
       "2    hatchback        rwd          front       94.5      171.2  ...   \n",
       "3        sedan        fwd          front       99.8      176.6  ...   \n",
       "4        sedan        4wd          front       99.4      176.6  ...   \n",
       "\n",
       "   enginesize  fuelsystem  boreratio stroke compressionratio  horsepower  \\\n",
       "0         130        mpfi       3.47   2.68              9.0         111   \n",
       "1         130        mpfi       3.47   2.68              9.0         111   \n",
       "2         152        mpfi       2.68   3.47              9.0         154   \n",
       "3         109        mpfi       3.19   3.40             10.0         102   \n",
       "4         136        mpfi       3.19   3.40              8.0         115   \n",
       "\n",
       "  peakrpm  citympg  highwaympg    price  \n",
       "0    5000       21          27  13495.0  \n",
       "1    5000       21          27  16500.0  \n",
       "2    5000       19          26  16500.0  \n",
       "3    5500       24          30  13950.0  \n",
       "4    5500       18          22  17450.0  \n",
       "\n",
       "[5 rows x 25 columns]"
      ]
     },
     "execution_count": 191,
     "metadata": {},
     "output_type": "execute_result"
    }
   ],
   "source": [
    "import pandas as pd\n",
    "import numpy as np\n",
    "df1 = pd.read_csv('AutoData.csv')\n",
    "df2 = pd.read_csv('AutoData.csv')\n",
    "df3 = pd.read_csv('AutoData.csv')\n",
    "df4 = pd.read_csv('AutoData.csv')\n",
    "df5 = pd.read_csv('AutoData.csv')\n",
    "\n",
    "df = pd.concat([df1,df2,df3,df4,df5],ignore_index=True)\n",
    "\n",
    "\n",
    "df.head()"
   ]
  },
  {
   "cell_type": "code",
   "execution_count": 2,
   "id": "07669d85",
   "metadata": {},
   "outputs": [
    {
     "name": "stdout",
     "output_type": "stream",
     "text": [
      "<class 'pandas.core.frame.DataFrame'>\n",
      "Int64Index: 1025 entries, 0 to 204\n",
      "Data columns (total 25 columns):\n",
      " #   Column            Non-Null Count  Dtype  \n",
      "---  ------            --------------  -----  \n",
      " 0   symboling         1025 non-null   int64  \n",
      " 1   make              1025 non-null   object \n",
      " 2   fueltype          1025 non-null   object \n",
      " 3   aspiration        1025 non-null   object \n",
      " 4   doornumber        1025 non-null   object \n",
      " 5   carbody           1025 non-null   object \n",
      " 6   drivewheel        1025 non-null   object \n",
      " 7   enginelocation    1025 non-null   object \n",
      " 8   wheelbase         1025 non-null   float64\n",
      " 9   carlength         1025 non-null   float64\n",
      " 10  carwidth          1025 non-null   float64\n",
      " 11  carheight         1025 non-null   float64\n",
      " 12  curbweight        1025 non-null   int64  \n",
      " 13  enginetype        1025 non-null   object \n",
      " 14  cylindernumber    1025 non-null   object \n",
      " 15  enginesize        1025 non-null   int64  \n",
      " 16  fuelsystem        1025 non-null   object \n",
      " 17  boreratio         1025 non-null   float64\n",
      " 18  stroke            1025 non-null   float64\n",
      " 19  compressionratio  1025 non-null   float64\n",
      " 20  horsepower        1025 non-null   int64  \n",
      " 21  peakrpm           1025 non-null   int64  \n",
      " 22  citympg           1025 non-null   int64  \n",
      " 23  highwaympg        1025 non-null   int64  \n",
      " 24  price             1025 non-null   float64\n",
      "dtypes: float64(8), int64(7), object(10)\n",
      "memory usage: 208.2+ KB\n"
     ]
    }
   ],
   "source": [
    "df.info()"
   ]
  },
  {
   "cell_type": "code",
   "execution_count": 3,
   "id": "0541cddd",
   "metadata": {},
   "outputs": [
    {
     "data": {
      "text/plain": [
       "(1025, 25)"
      ]
     },
     "execution_count": 3,
     "metadata": {},
     "output_type": "execute_result"
    }
   ],
   "source": [
    "df.shape"
   ]
  },
  {
   "cell_type": "code",
   "execution_count": 4,
   "id": "f8d10054",
   "metadata": {
    "scrolled": true
   },
   "outputs": [
    {
     "data": {
      "text/html": [
       "<div>\n",
       "<style scoped>\n",
       "    .dataframe tbody tr th:only-of-type {\n",
       "        vertical-align: middle;\n",
       "    }\n",
       "\n",
       "    .dataframe tbody tr th {\n",
       "        vertical-align: top;\n",
       "    }\n",
       "\n",
       "    .dataframe thead th {\n",
       "        text-align: right;\n",
       "    }\n",
       "</style>\n",
       "<table border=\"1\" class=\"dataframe\">\n",
       "  <thead>\n",
       "    <tr style=\"text-align: right;\">\n",
       "      <th></th>\n",
       "      <th>symboling</th>\n",
       "      <th>wheelbase</th>\n",
       "      <th>carlength</th>\n",
       "      <th>carwidth</th>\n",
       "      <th>carheight</th>\n",
       "      <th>curbweight</th>\n",
       "      <th>enginesize</th>\n",
       "      <th>boreratio</th>\n",
       "      <th>stroke</th>\n",
       "      <th>compressionratio</th>\n",
       "      <th>horsepower</th>\n",
       "      <th>peakrpm</th>\n",
       "      <th>citympg</th>\n",
       "      <th>highwaympg</th>\n",
       "      <th>price</th>\n",
       "    </tr>\n",
       "  </thead>\n",
       "  <tbody>\n",
       "    <tr>\n",
       "      <th>count</th>\n",
       "      <td>1025.000000</td>\n",
       "      <td>1025.000000</td>\n",
       "      <td>1025.000000</td>\n",
       "      <td>1025.000000</td>\n",
       "      <td>1025.000000</td>\n",
       "      <td>1025.000000</td>\n",
       "      <td>1025.000000</td>\n",
       "      <td>1025.000000</td>\n",
       "      <td>1025.000000</td>\n",
       "      <td>1025.000000</td>\n",
       "      <td>1025.000000</td>\n",
       "      <td>1025.000000</td>\n",
       "      <td>1025.000000</td>\n",
       "      <td>1025.00000</td>\n",
       "      <td>1025.000000</td>\n",
       "    </tr>\n",
       "    <tr>\n",
       "      <th>mean</th>\n",
       "      <td>0.834146</td>\n",
       "      <td>98.756585</td>\n",
       "      <td>174.049268</td>\n",
       "      <td>65.907805</td>\n",
       "      <td>53.724878</td>\n",
       "      <td>2555.565854</td>\n",
       "      <td>126.907317</td>\n",
       "      <td>3.329756</td>\n",
       "      <td>3.255415</td>\n",
       "      <td>10.142537</td>\n",
       "      <td>104.117073</td>\n",
       "      <td>5125.121951</td>\n",
       "      <td>25.219512</td>\n",
       "      <td>30.75122</td>\n",
       "      <td>13276.710571</td>\n",
       "    </tr>\n",
       "    <tr>\n",
       "      <th>std</th>\n",
       "      <td>1.242872</td>\n",
       "      <td>6.010003</td>\n",
       "      <td>12.313169</td>\n",
       "      <td>2.141010</td>\n",
       "      <td>2.438745</td>\n",
       "      <td>519.662255</td>\n",
       "      <td>41.561280</td>\n",
       "      <td>0.270314</td>\n",
       "      <td>0.312984</td>\n",
       "      <td>3.964275</td>\n",
       "      <td>39.466857</td>\n",
       "      <td>476.053119</td>\n",
       "      <td>6.529352</td>\n",
       "      <td>6.87298</td>\n",
       "      <td>7973.233837</td>\n",
       "    </tr>\n",
       "    <tr>\n",
       "      <th>min</th>\n",
       "      <td>-2.000000</td>\n",
       "      <td>86.600000</td>\n",
       "      <td>141.100000</td>\n",
       "      <td>60.300000</td>\n",
       "      <td>47.800000</td>\n",
       "      <td>1488.000000</td>\n",
       "      <td>61.000000</td>\n",
       "      <td>2.540000</td>\n",
       "      <td>2.070000</td>\n",
       "      <td>7.000000</td>\n",
       "      <td>48.000000</td>\n",
       "      <td>4150.000000</td>\n",
       "      <td>13.000000</td>\n",
       "      <td>16.00000</td>\n",
       "      <td>5118.000000</td>\n",
       "    </tr>\n",
       "    <tr>\n",
       "      <th>25%</th>\n",
       "      <td>0.000000</td>\n",
       "      <td>94.500000</td>\n",
       "      <td>166.300000</td>\n",
       "      <td>64.100000</td>\n",
       "      <td>52.000000</td>\n",
       "      <td>2145.000000</td>\n",
       "      <td>97.000000</td>\n",
       "      <td>3.150000</td>\n",
       "      <td>3.110000</td>\n",
       "      <td>8.600000</td>\n",
       "      <td>70.000000</td>\n",
       "      <td>4800.000000</td>\n",
       "      <td>19.000000</td>\n",
       "      <td>25.00000</td>\n",
       "      <td>7788.000000</td>\n",
       "    </tr>\n",
       "    <tr>\n",
       "      <th>50%</th>\n",
       "      <td>1.000000</td>\n",
       "      <td>97.000000</td>\n",
       "      <td>173.200000</td>\n",
       "      <td>65.500000</td>\n",
       "      <td>54.100000</td>\n",
       "      <td>2414.000000</td>\n",
       "      <td>120.000000</td>\n",
       "      <td>3.310000</td>\n",
       "      <td>3.290000</td>\n",
       "      <td>9.000000</td>\n",
       "      <td>95.000000</td>\n",
       "      <td>5200.000000</td>\n",
       "      <td>24.000000</td>\n",
       "      <td>30.00000</td>\n",
       "      <td>10295.000000</td>\n",
       "    </tr>\n",
       "    <tr>\n",
       "      <th>75%</th>\n",
       "      <td>2.000000</td>\n",
       "      <td>102.400000</td>\n",
       "      <td>183.100000</td>\n",
       "      <td>66.900000</td>\n",
       "      <td>55.500000</td>\n",
       "      <td>2935.000000</td>\n",
       "      <td>141.000000</td>\n",
       "      <td>3.580000</td>\n",
       "      <td>3.410000</td>\n",
       "      <td>9.400000</td>\n",
       "      <td>116.000000</td>\n",
       "      <td>5500.000000</td>\n",
       "      <td>30.000000</td>\n",
       "      <td>34.00000</td>\n",
       "      <td>16503.000000</td>\n",
       "    </tr>\n",
       "    <tr>\n",
       "      <th>max</th>\n",
       "      <td>3.000000</td>\n",
       "      <td>120.900000</td>\n",
       "      <td>208.100000</td>\n",
       "      <td>72.300000</td>\n",
       "      <td>59.800000</td>\n",
       "      <td>4066.000000</td>\n",
       "      <td>326.000000</td>\n",
       "      <td>3.940000</td>\n",
       "      <td>4.170000</td>\n",
       "      <td>23.000000</td>\n",
       "      <td>288.000000</td>\n",
       "      <td>6600.000000</td>\n",
       "      <td>49.000000</td>\n",
       "      <td>54.00000</td>\n",
       "      <td>45400.000000</td>\n",
       "    </tr>\n",
       "  </tbody>\n",
       "</table>\n",
       "</div>"
      ],
      "text/plain": [
       "         symboling    wheelbase    carlength     carwidth    carheight  \\\n",
       "count  1025.000000  1025.000000  1025.000000  1025.000000  1025.000000   \n",
       "mean      0.834146    98.756585   174.049268    65.907805    53.724878   \n",
       "std       1.242872     6.010003    12.313169     2.141010     2.438745   \n",
       "min      -2.000000    86.600000   141.100000    60.300000    47.800000   \n",
       "25%       0.000000    94.500000   166.300000    64.100000    52.000000   \n",
       "50%       1.000000    97.000000   173.200000    65.500000    54.100000   \n",
       "75%       2.000000   102.400000   183.100000    66.900000    55.500000   \n",
       "max       3.000000   120.900000   208.100000    72.300000    59.800000   \n",
       "\n",
       "        curbweight   enginesize    boreratio       stroke  compressionratio  \\\n",
       "count  1025.000000  1025.000000  1025.000000  1025.000000       1025.000000   \n",
       "mean   2555.565854   126.907317     3.329756     3.255415         10.142537   \n",
       "std     519.662255    41.561280     0.270314     0.312984          3.964275   \n",
       "min    1488.000000    61.000000     2.540000     2.070000          7.000000   \n",
       "25%    2145.000000    97.000000     3.150000     3.110000          8.600000   \n",
       "50%    2414.000000   120.000000     3.310000     3.290000          9.000000   \n",
       "75%    2935.000000   141.000000     3.580000     3.410000          9.400000   \n",
       "max    4066.000000   326.000000     3.940000     4.170000         23.000000   \n",
       "\n",
       "        horsepower      peakrpm      citympg  highwaympg         price  \n",
       "count  1025.000000  1025.000000  1025.000000  1025.00000   1025.000000  \n",
       "mean    104.117073  5125.121951    25.219512    30.75122  13276.710571  \n",
       "std      39.466857   476.053119     6.529352     6.87298   7973.233837  \n",
       "min      48.000000  4150.000000    13.000000    16.00000   5118.000000  \n",
       "25%      70.000000  4800.000000    19.000000    25.00000   7788.000000  \n",
       "50%      95.000000  5200.000000    24.000000    30.00000  10295.000000  \n",
       "75%     116.000000  5500.000000    30.000000    34.00000  16503.000000  \n",
       "max     288.000000  6600.000000    49.000000    54.00000  45400.000000  "
      ]
     },
     "execution_count": 4,
     "metadata": {},
     "output_type": "execute_result"
    }
   ],
   "source": [
    "df.describe()"
   ]
  },
  {
   "cell_type": "markdown",
   "id": "6f512390",
   "metadata": {},
   "source": [
    "### Some distributions of continuous variables and their numerical summaries."
   ]
  },
  {
   "cell_type": "code",
   "execution_count": 5,
   "id": "9deed8bc",
   "metadata": {},
   "outputs": [],
   "source": [
    "import matplotlib.pyplot as plt\n"
   ]
  },
  {
   "cell_type": "code",
   "execution_count": 195,
   "id": "70ba55a1",
   "metadata": {},
   "outputs": [
    {
     "name": "stdout",
     "output_type": "stream",
     "text": [
      "mean= 65.90780487804898\n",
      "median= 65.5\n",
      "standard deviation= 2.141009901749693\n",
      "Variance= 4.583923399390231\n"
     ]
    },
    {
     "data": {
      "image/png": "[encoded data removed]",
      "text/plain": [
       "<Figure size 432x288 with 1 Axes>"
      ]
     },
     "metadata": {
      "needs_background": "light"
     },
     "output_type": "display_data"
    }
   ],
   "source": [
    "df.carwidth.plot.density(color='blue', title='Width of Cars')\n",
    "plt.show\n",
    "print('mean=',df['carwidth'].mean())\n",
    "print('median=',df['carwidth'].median())\n",
    "print('standard deviation=',df['carwidth'].std())\n",
    "print('Variance=',df['carwidth'].var())"
   ]
  },
  {
   "cell_type": "code",
   "execution_count": 221,
   "id": "76c6db23",
   "metadata": {},
   "outputs": [
    {
     "name": "stdout",
     "output_type": "stream",
     "text": [
      "mean= 174.04926829268317\n",
      "median= 173.2\n",
      "standard deviation= 12.313168682318839\n",
      "Variance= 151.61412299923745\n"
     ]
    },
    {
     "data": {
      "image/png": "[encoded data removed]",
      "text/plain": [
       "<Figure size 432x288 with 1 Axes>"
      ]
     },
     "metadata": {
      "needs_background": "light"
     },
     "output_type": "display_data"
    }
   ],
   "source": [
    "df.carlength.plot.density(color='green', title='Length of Cars')\n",
    "plt.show\n",
    "print('mean=',df['carlength'].mean())\n",
    "print('median=',df['carlength'].median())\n",
    "print('standard deviation=',df['carlength'].std())\n",
    "print('Variance=',df['carlength'].var())"
   ]
  },
  {
   "cell_type": "code",
   "execution_count": 192,
   "id": "952b9ca5",
   "metadata": {
    "scrolled": true
   },
   "outputs": [
    {
     "name": "stdout",
     "output_type": "stream",
     "text": [
      "mean= 13276.710570731708\n",
      "median= 10295.0\n",
      "standard deviation= 7973.233837172488\n"
     ]
    },
    {
     "data": {
      "image/png": "[encoded data removed]",
      "text/plain": [
       "<Figure size 432x288 with 1 Axes>"
      ]
     },
     "metadata": {
      "needs_background": "light"
     },
     "output_type": "display_data"
    }
   ],
   "source": [
    "df.price.plot.density(color='red', title='Price')\n",
    "plt.show\n",
    "print('mean=',df['price'].mean())\n",
    "print('median=',df['price'].median())\n",
    "print('standard deviation=',df['price'].std())"
   ]
  },
  {
   "cell_type": "code",
   "execution_count": 196,
   "id": "3fc4e3cd",
   "metadata": {},
   "outputs": [
    {
     "name": "stdout",
     "output_type": "stream",
     "text": [
      "mean= 126.90731707317073\n",
      "median= 120.0\n",
      "standard deviation= 41.56128046991307\n"
     ]
    },
    {
     "data": {
      "image/png": "[encoded data removed]",
      "text/plain": [
       "<Figure size 432x288 with 1 Axes>"
      ]
     },
     "metadata": {
      "needs_background": "light"
     },
     "output_type": "display_data"
    }
   ],
   "source": [
    "df.enginesize.plot.density(color='blue', title='Size of Engine')\n",
    "plt.show\n",
    "print('mean=',df['enginesize'].mean())\n",
    "print('median=',df['enginesize'].median())\n",
    "print('standard deviation=',df['enginesize'].std())"
   ]
  },
  {
   "cell_type": "code",
   "execution_count": 197,
   "id": "612c84ff",
   "metadata": {},
   "outputs": [
    {
     "name": "stdout",
     "output_type": "stream",
     "text": [
      "mean= 98.75658536585348\n",
      "median= 97.0\n",
      "standard deviation= 6.010002896277353\n"
     ]
    },
    {
     "data": {
      "image/png": "[encoded data removed]",
      "text/plain": [
       "<Figure size 432x288 with 1 Axes>"
      ]
     },
     "metadata": {
      "needs_background": "light"
     },
     "output_type": "display_data"
    }
   ],
   "source": [
    "df.wheelbase.plot.density(color='purple', title='Distance of Wheelbase')\n",
    "plt.show\n",
    "print('mean=',df['wheelbase'].mean())\n",
    "print('median=',df['wheelbase'].median())\n",
    "print('standard deviation=',df['wheelbase'].std())"
   ]
  },
  {
   "cell_type": "code",
   "execution_count": 198,
   "id": "24359e04",
   "metadata": {},
   "outputs": [
    {
     "name": "stdout",
     "output_type": "stream",
     "text": [
      "mean= 3.255414634146352\n",
      "median= 3.29\n",
      "standard deviation= 0.3129839202833675\n"
     ]
    },
    {
     "data": {
      "image/png": "[encoded data removed]",
      "text/plain": [
       "<Figure size 432x288 with 1 Axes>"
      ]
     },
     "metadata": {
      "needs_background": "light"
     },
     "output_type": "display_data"
    }
   ],
   "source": [
    "df.stroke.plot.density(color='black', title='Stroke')\n",
    "plt.show\n",
    "print('mean=',df['stroke'].mean())\n",
    "print('median=',df['stroke'].median())\n",
    "print('standard deviation=',df['stroke'].std())"
   ]
  },
  {
   "cell_type": "markdown",
   "id": "e34a47e5",
   "metadata": {},
   "source": [
    "------"
   ]
  },
  {
   "cell_type": "markdown",
   "id": "1cf3efe0",
   "metadata": {},
   "source": [
    "#### Correlations between continuous variables\n"
   ]
  },
  {
   "cell_type": "code",
   "execution_count": 199,
   "id": "421f4863",
   "metadata": {},
   "outputs": [
    {
     "data": {
      "text/html": [
       "<div>\n",
       "<style scoped>\n",
       "    .dataframe tbody tr th:only-of-type {\n",
       "        vertical-align: middle;\n",
       "    }\n",
       "\n",
       "    .dataframe tbody tr th {\n",
       "        vertical-align: top;\n",
       "    }\n",
       "\n",
       "    .dataframe thead th {\n",
       "        text-align: right;\n",
       "    }\n",
       "</style>\n",
       "<table border=\"1\" class=\"dataframe\">\n",
       "  <thead>\n",
       "    <tr style=\"text-align: right;\">\n",
       "      <th></th>\n",
       "      <th>wheelbase</th>\n",
       "      <th>carlength</th>\n",
       "      <th>carheight</th>\n",
       "      <th>carwidth</th>\n",
       "    </tr>\n",
       "  </thead>\n",
       "  <tbody>\n",
       "    <tr>\n",
       "      <th>wheelbase</th>\n",
       "      <td>1.000000</td>\n",
       "      <td>0.874587</td>\n",
       "      <td>0.589435</td>\n",
       "      <td>0.795144</td>\n",
       "    </tr>\n",
       "    <tr>\n",
       "      <th>carlength</th>\n",
       "      <td>0.874587</td>\n",
       "      <td>1.000000</td>\n",
       "      <td>0.491029</td>\n",
       "      <td>0.841118</td>\n",
       "    </tr>\n",
       "    <tr>\n",
       "      <th>carheight</th>\n",
       "      <td>0.589435</td>\n",
       "      <td>0.491029</td>\n",
       "      <td>1.000000</td>\n",
       "      <td>0.279210</td>\n",
       "    </tr>\n",
       "    <tr>\n",
       "      <th>carwidth</th>\n",
       "      <td>0.795144</td>\n",
       "      <td>0.841118</td>\n",
       "      <td>0.279210</td>\n",
       "      <td>1.000000</td>\n",
       "    </tr>\n",
       "  </tbody>\n",
       "</table>\n",
       "</div>"
      ],
      "text/plain": [
       "           wheelbase  carlength  carheight  carwidth\n",
       "wheelbase   1.000000   0.874587   0.589435  0.795144\n",
       "carlength   0.874587   1.000000   0.491029  0.841118\n",
       "carheight   0.589435   0.491029   1.000000  0.279210\n",
       "carwidth    0.795144   0.841118   0.279210  1.000000"
      ]
     },
     "execution_count": 199,
     "metadata": {},
     "output_type": "execute_result"
    }
   ],
   "source": [
    "b = df[[\"wheelbase\", 'carlength','carheight','carwidth']].corr(method='pearson')\n",
    "b"
   ]
  },
  {
   "cell_type": "code",
   "execution_count": 44,
   "id": "97b14c45",
   "metadata": {},
   "outputs": [
    {
     "data": {
      "text/plain": [
       "<AxesSubplot:>"
      ]
     },
     "execution_count": 44,
     "metadata": {},
     "output_type": "execute_result"
    },
    {
     "data": {
      "image/png": "[encoded data removed]",
      "text/plain": [
       "<Figure size 432x288 with 2 Axes>"
      ]
     },
     "metadata": {
      "needs_background": "light"
     },
     "output_type": "display_data"
    }
   ],
   "source": [
    "sns.heatmap(b, annot=True)"
   ]
  },
  {
   "cell_type": "markdown",
   "id": "48a1969c",
   "metadata": {},
   "source": [
    "##### car length vs car width"
   ]
  },
  {
   "cell_type": "code",
   "execution_count": 6,
   "id": "31244ff8",
   "metadata": {},
   "outputs": [
    {
     "data": {
      "text/html": [
       "<div>\n",
       "<style scoped>\n",
       "    .dataframe tbody tr th:only-of-type {\n",
       "        vertical-align: middle;\n",
       "    }\n",
       "\n",
       "    .dataframe tbody tr th {\n",
       "        vertical-align: top;\n",
       "    }\n",
       "\n",
       "    .dataframe thead th {\n",
       "        text-align: right;\n",
       "    }\n",
       "</style>\n",
       "<table border=\"1\" class=\"dataframe\">\n",
       "  <thead>\n",
       "    <tr style=\"text-align: right;\">\n",
       "      <th></th>\n",
       "      <th>carlength</th>\n",
       "      <th>carwidth</th>\n",
       "    </tr>\n",
       "  </thead>\n",
       "  <tbody>\n",
       "    <tr>\n",
       "      <th>carlength</th>\n",
       "      <td>1.000000</td>\n",
       "      <td>0.841118</td>\n",
       "    </tr>\n",
       "    <tr>\n",
       "      <th>carwidth</th>\n",
       "      <td>0.841118</td>\n",
       "      <td>1.000000</td>\n",
       "    </tr>\n",
       "  </tbody>\n",
       "</table>\n",
       "</div>"
      ],
      "text/plain": [
       "           carlength  carwidth\n",
       "carlength   1.000000  0.841118\n",
       "carwidth    0.841118  1.000000"
      ]
     },
     "execution_count": 6,
     "metadata": {},
     "output_type": "execute_result"
    }
   ],
   "source": [
    "x = df[[\"carlength\", 'carwidth']].corr(method='pearson')\n",
    "x\n",
    "\n"
   ]
  },
  {
   "cell_type": "markdown",
   "id": "f2646f4d",
   "metadata": {},
   "source": [
    " 0.84 correlation means there is a strong positive corrleation between the car length and car width, this is because the number is closer to 1 than to zero. We could prove this by doing a scatter plot and observing the positive correlation with our eyes. "
   ]
  },
  {
   "cell_type": "code",
   "execution_count": 7,
   "id": "ea72730d",
   "metadata": {
    "scrolled": true
   },
   "outputs": [
    {
     "data": {
      "image/png": "[encoded data removed]",
      "text/plain": [
       "<Figure size 432x288 with 1 Axes>"
      ]
     },
     "metadata": {
      "needs_background": "light"
     },
     "output_type": "display_data"
    }
   ],
   "source": [
    "\n",
    "plt.scatter(df['carlength'],df['carwidth'])\n",
    "plt.ylabel(\"carwidth\")\n",
    "plt.xlabel(\"carlength\")\n",
    "plt.show()\n"
   ]
  },
  {
   "cell_type": "code",
   "execution_count": 8,
   "id": "ebfc12e4",
   "metadata": {},
   "outputs": [
    {
     "data": {
      "text/plain": [
       "<AxesSubplot:>"
      ]
     },
     "execution_count": 8,
     "metadata": {},
     "output_type": "execute_result"
    },
    {
     "data": {
      "image/png": "[encoded data removed]",
      "text/plain": [
       "<Figure size 432x288 with 2 Axes>"
      ]
     },
     "metadata": {
      "needs_background": "light"
     },
     "output_type": "display_data"
    }
   ],
   "source": [
    "import seaborn as sns\n",
    "sns.heatmap(x, annot=True)"
   ]
  },
  {
   "cell_type": "markdown",
   "id": "ede55f57",
   "metadata": {},
   "source": [
    "This can easily be understood and relatable because car sizes have a sort of propotion with its length and width not to be seen faulty. Hence, as the length of a car increses its width increases as well.  "
   ]
  },
  {
   "cell_type": "markdown",
   "id": "6003e389",
   "metadata": {},
   "source": [
    "---------"
   ]
  },
  {
   "cell_type": "markdown",
   "id": "e42ddbe0",
   "metadata": {},
   "source": [
    "###### Highway Average Speed vs The cars weight"
   ]
  },
  {
   "cell_type": "code",
   "execution_count": 10,
   "id": "bdd523ec",
   "metadata": {},
   "outputs": [
    {
     "data": {
      "text/html": [
       "<div>\n",
       "<style scoped>\n",
       "    .dataframe tbody tr th:only-of-type {\n",
       "        vertical-align: middle;\n",
       "    }\n",
       "\n",
       "    .dataframe tbody tr th {\n",
       "        vertical-align: top;\n",
       "    }\n",
       "\n",
       "    .dataframe thead th {\n",
       "        text-align: right;\n",
       "    }\n",
       "</style>\n",
       "<table border=\"1\" class=\"dataframe\">\n",
       "  <thead>\n",
       "    <tr style=\"text-align: right;\">\n",
       "      <th></th>\n",
       "      <th>highwaympg</th>\n",
       "      <th>curbweight</th>\n",
       "    </tr>\n",
       "  </thead>\n",
       "  <tbody>\n",
       "    <tr>\n",
       "      <th>highwaympg</th>\n",
       "      <td>1.000</td>\n",
       "      <td>-0.797</td>\n",
       "    </tr>\n",
       "    <tr>\n",
       "      <th>curbweight</th>\n",
       "      <td>-0.797</td>\n",
       "      <td>1.000</td>\n",
       "    </tr>\n",
       "  </tbody>\n",
       "</table>\n",
       "</div>"
      ],
      "text/plain": [
       "            highwaympg  curbweight\n",
       "highwaympg       1.000      -0.797\n",
       "curbweight      -0.797       1.000"
      ]
     },
     "execution_count": 10,
     "metadata": {},
     "output_type": "execute_result"
    }
   ],
   "source": [
    "z = df[['highwaympg', 'curbweight']].corr(method='pearson').round(3)\n",
    "z\n",
    "\n"
   ]
  },
  {
   "cell_type": "markdown",
   "id": "f9e52df6",
   "metadata": {},
   "source": [
    "As seen in the table above, the correlation between the car's weight and the speed the car will reach while driving on an open road without stopping or starting, typically at a higher speed, is -0.797. This means that they are negatively linearly correlated, such that as the car weight increases its speed on road will decrease. I will again show the graph to easily observe the correlation by eye."
   ]
  },
  {
   "cell_type": "code",
   "execution_count": 206,
   "id": "9ef49720",
   "metadata": {},
   "outputs": [
    {
     "data": {
      "image/png": "[encoded data removed]",
      "text/plain": [
       "<Figure size 432x288 with 1 Axes>"
      ]
     },
     "metadata": {
      "needs_background": "light"
     },
     "output_type": "display_data"
    }
   ],
   "source": [
    "plt.scatter(df['curbweight'], df['highwaympg'])\n",
    "plt.xlabel(\"Car Wieght\")\n",
    "plt.ylabel(\"Car avg Speed on road \")\n",
    "plt.show()\n",
    "\n"
   ]
  },
  {
   "cell_type": "markdown",
   "id": "69768571",
   "metadata": {},
   "source": [
    "#### Car hieght vs Price "
   ]
  },
  {
   "cell_type": "code",
   "execution_count": 25,
   "id": "794e39d1",
   "metadata": {},
   "outputs": [
    {
     "data": {
      "text/html": [
       "<div>\n",
       "<style scoped>\n",
       "    .dataframe tbody tr th:only-of-type {\n",
       "        vertical-align: middle;\n",
       "    }\n",
       "\n",
       "    .dataframe tbody tr th {\n",
       "        vertical-align: top;\n",
       "    }\n",
       "\n",
       "    .dataframe thead th {\n",
       "        text-align: right;\n",
       "    }\n",
       "</style>\n",
       "<table border=\"1\" class=\"dataframe\">\n",
       "  <thead>\n",
       "    <tr style=\"text-align: right;\">\n",
       "      <th></th>\n",
       "      <th>price</th>\n",
       "      <th>carheight</th>\n",
       "    </tr>\n",
       "  </thead>\n",
       "  <tbody>\n",
       "    <tr>\n",
       "      <th>price</th>\n",
       "      <td>1.000</td>\n",
       "      <td>0.119</td>\n",
       "    </tr>\n",
       "    <tr>\n",
       "      <th>carheight</th>\n",
       "      <td>0.119</td>\n",
       "      <td>1.000</td>\n",
       "    </tr>\n",
       "  </tbody>\n",
       "</table>\n",
       "</div>"
      ],
      "text/plain": [
       "           price  carheight\n",
       "price      1.000      0.119\n",
       "carheight  0.119      1.000"
      ]
     },
     "execution_count": 25,
     "metadata": {},
     "output_type": "execute_result"
    }
   ],
   "source": [
    "c = df[['price', 'carheight']].corr(method='pearson').round(3)\n",
    "c\n",
    "\n"
   ]
  },
  {
   "cell_type": "code",
   "execution_count": 27,
   "id": "675e2f68",
   "metadata": {},
   "outputs": [
    {
     "data": {
      "image/png": "[encoded data removed]",
      "text/plain": [
       "<Figure size 432x288 with 1 Axes>"
      ]
     },
     "metadata": {
      "needs_background": "light"
     },
     "output_type": "display_data"
    }
   ],
   "source": [
    "plt.scatter(df['carheight'], df['price'])\n",
    "plt.xlabel(\"car height\")\n",
    "plt.ylabel(\"Price \")\n",
    "plt.show()\n",
    "\n"
   ]
  },
  {
   "cell_type": "markdown",
   "id": "1e01a6e2",
   "metadata": {},
   "source": [
    "As you can see the correlation is very close to zero and it is clear on the graph that there is no clear leniar relationship. In fact, if we have the car height only we could not predict it's price as there is almost Zero correlation. This may be because height does not determine the quality of the car at all as quality determines the price in most cases."
   ]
  },
  {
   "cell_type": "markdown",
   "id": "a1f3343b",
   "metadata": {},
   "source": [
    "## Descrete variables"
   ]
  },
  {
   "cell_type": "code",
   "execution_count": 92,
   "id": "49391bd6",
   "metadata": {},
   "outputs": [
    {
     "data": {
      "text/html": [
       "<div>\n",
       "<style scoped>\n",
       "    .dataframe tbody tr th:only-of-type {\n",
       "        vertical-align: middle;\n",
       "    }\n",
       "\n",
       "    .dataframe tbody tr th {\n",
       "        vertical-align: top;\n",
       "    }\n",
       "\n",
       "    .dataframe thead th {\n",
       "        text-align: right;\n",
       "    }\n",
       "</style>\n",
       "<table border=\"1\" class=\"dataframe\">\n",
       "  <thead>\n",
       "    <tr style=\"text-align: right;\">\n",
       "      <th></th>\n",
       "      <th>symboling</th>\n",
       "      <th>make</th>\n",
       "      <th>fueltype</th>\n",
       "      <th>aspiration</th>\n",
       "      <th>doornumber</th>\n",
       "      <th>carbody</th>\n",
       "      <th>drivewheel</th>\n",
       "      <th>enginelocation</th>\n",
       "      <th>wheelbase</th>\n",
       "      <th>carlength</th>\n",
       "      <th>...</th>\n",
       "      <th>enginesize</th>\n",
       "      <th>fuelsystem</th>\n",
       "      <th>boreratio</th>\n",
       "      <th>stroke</th>\n",
       "      <th>compressionratio</th>\n",
       "      <th>horsepower</th>\n",
       "      <th>peakrpm</th>\n",
       "      <th>citympg</th>\n",
       "      <th>highwaympg</th>\n",
       "      <th>price</th>\n",
       "    </tr>\n",
       "  </thead>\n",
       "  <tbody>\n",
       "    <tr>\n",
       "      <th>0</th>\n",
       "      <td>3</td>\n",
       "      <td>alfa-romero giulia</td>\n",
       "      <td>gas</td>\n",
       "      <td>std</td>\n",
       "      <td>two</td>\n",
       "      <td>convertible</td>\n",
       "      <td>rwd</td>\n",
       "      <td>front</td>\n",
       "      <td>88.6</td>\n",
       "      <td>168.8</td>\n",
       "      <td>...</td>\n",
       "      <td>130</td>\n",
       "      <td>mpfi</td>\n",
       "      <td>3.47</td>\n",
       "      <td>2.68</td>\n",
       "      <td>9.0</td>\n",
       "      <td>111</td>\n",
       "      <td>5000</td>\n",
       "      <td>21</td>\n",
       "      <td>27</td>\n",
       "      <td>13495.0</td>\n",
       "    </tr>\n",
       "    <tr>\n",
       "      <th>1</th>\n",
       "      <td>3</td>\n",
       "      <td>alfa-romero stelvio</td>\n",
       "      <td>gas</td>\n",
       "      <td>std</td>\n",
       "      <td>two</td>\n",
       "      <td>convertible</td>\n",
       "      <td>rwd</td>\n",
       "      <td>front</td>\n",
       "      <td>88.6</td>\n",
       "      <td>168.8</td>\n",
       "      <td>...</td>\n",
       "      <td>130</td>\n",
       "      <td>mpfi</td>\n",
       "      <td>3.47</td>\n",
       "      <td>2.68</td>\n",
       "      <td>9.0</td>\n",
       "      <td>111</td>\n",
       "      <td>5000</td>\n",
       "      <td>21</td>\n",
       "      <td>27</td>\n",
       "      <td>16500.0</td>\n",
       "    </tr>\n",
       "    <tr>\n",
       "      <th>2</th>\n",
       "      <td>1</td>\n",
       "      <td>alfa-romero Quadrifoglio</td>\n",
       "      <td>gas</td>\n",
       "      <td>std</td>\n",
       "      <td>two</td>\n",
       "      <td>hatchback</td>\n",
       "      <td>rwd</td>\n",
       "      <td>front</td>\n",
       "      <td>94.5</td>\n",
       "      <td>171.2</td>\n",
       "      <td>...</td>\n",
       "      <td>152</td>\n",
       "      <td>mpfi</td>\n",
       "      <td>2.68</td>\n",
       "      <td>3.47</td>\n",
       "      <td>9.0</td>\n",
       "      <td>154</td>\n",
       "      <td>5000</td>\n",
       "      <td>19</td>\n",
       "      <td>26</td>\n",
       "      <td>16500.0</td>\n",
       "    </tr>\n",
       "    <tr>\n",
       "      <th>3</th>\n",
       "      <td>2</td>\n",
       "      <td>audi 100 ls</td>\n",
       "      <td>gas</td>\n",
       "      <td>std</td>\n",
       "      <td>four</td>\n",
       "      <td>sedan</td>\n",
       "      <td>fwd</td>\n",
       "      <td>front</td>\n",
       "      <td>99.8</td>\n",
       "      <td>176.6</td>\n",
       "      <td>...</td>\n",
       "      <td>109</td>\n",
       "      <td>mpfi</td>\n",
       "      <td>3.19</td>\n",
       "      <td>3.40</td>\n",
       "      <td>10.0</td>\n",
       "      <td>102</td>\n",
       "      <td>5500</td>\n",
       "      <td>24</td>\n",
       "      <td>30</td>\n",
       "      <td>13950.0</td>\n",
       "    </tr>\n",
       "    <tr>\n",
       "      <th>4</th>\n",
       "      <td>2</td>\n",
       "      <td>audi 100ls</td>\n",
       "      <td>gas</td>\n",
       "      <td>std</td>\n",
       "      <td>four</td>\n",
       "      <td>sedan</td>\n",
       "      <td>4wd</td>\n",
       "      <td>front</td>\n",
       "      <td>99.4</td>\n",
       "      <td>176.6</td>\n",
       "      <td>...</td>\n",
       "      <td>136</td>\n",
       "      <td>mpfi</td>\n",
       "      <td>3.19</td>\n",
       "      <td>3.40</td>\n",
       "      <td>8.0</td>\n",
       "      <td>115</td>\n",
       "      <td>5500</td>\n",
       "      <td>18</td>\n",
       "      <td>22</td>\n",
       "      <td>17450.0</td>\n",
       "    </tr>\n",
       "    <tr>\n",
       "      <th>...</th>\n",
       "      <td>...</td>\n",
       "      <td>...</td>\n",
       "      <td>...</td>\n",
       "      <td>...</td>\n",
       "      <td>...</td>\n",
       "      <td>...</td>\n",
       "      <td>...</td>\n",
       "      <td>...</td>\n",
       "      <td>...</td>\n",
       "      <td>...</td>\n",
       "      <td>...</td>\n",
       "      <td>...</td>\n",
       "      <td>...</td>\n",
       "      <td>...</td>\n",
       "      <td>...</td>\n",
       "      <td>...</td>\n",
       "      <td>...</td>\n",
       "      <td>...</td>\n",
       "      <td>...</td>\n",
       "      <td>...</td>\n",
       "      <td>...</td>\n",
       "    </tr>\n",
       "    <tr>\n",
       "      <th>200</th>\n",
       "      <td>-1</td>\n",
       "      <td>volvo 145e (sw)</td>\n",
       "      <td>gas</td>\n",
       "      <td>std</td>\n",
       "      <td>four</td>\n",
       "      <td>sedan</td>\n",
       "      <td>rwd</td>\n",
       "      <td>front</td>\n",
       "      <td>109.1</td>\n",
       "      <td>188.8</td>\n",
       "      <td>...</td>\n",
       "      <td>141</td>\n",
       "      <td>mpfi</td>\n",
       "      <td>3.78</td>\n",
       "      <td>3.15</td>\n",
       "      <td>9.5</td>\n",
       "      <td>114</td>\n",
       "      <td>5400</td>\n",
       "      <td>23</td>\n",
       "      <td>28</td>\n",
       "      <td>16845.0</td>\n",
       "    </tr>\n",
       "    <tr>\n",
       "      <th>201</th>\n",
       "      <td>-1</td>\n",
       "      <td>volvo 144ea</td>\n",
       "      <td>gas</td>\n",
       "      <td>turbo</td>\n",
       "      <td>four</td>\n",
       "      <td>sedan</td>\n",
       "      <td>rwd</td>\n",
       "      <td>front</td>\n",
       "      <td>109.1</td>\n",
       "      <td>188.8</td>\n",
       "      <td>...</td>\n",
       "      <td>141</td>\n",
       "      <td>mpfi</td>\n",
       "      <td>3.78</td>\n",
       "      <td>3.15</td>\n",
       "      <td>8.7</td>\n",
       "      <td>160</td>\n",
       "      <td>5300</td>\n",
       "      <td>19</td>\n",
       "      <td>25</td>\n",
       "      <td>19045.0</td>\n",
       "    </tr>\n",
       "    <tr>\n",
       "      <th>202</th>\n",
       "      <td>-1</td>\n",
       "      <td>volvo 244dl</td>\n",
       "      <td>gas</td>\n",
       "      <td>std</td>\n",
       "      <td>four</td>\n",
       "      <td>sedan</td>\n",
       "      <td>rwd</td>\n",
       "      <td>front</td>\n",
       "      <td>109.1</td>\n",
       "      <td>188.8</td>\n",
       "      <td>...</td>\n",
       "      <td>173</td>\n",
       "      <td>mpfi</td>\n",
       "      <td>3.58</td>\n",
       "      <td>2.87</td>\n",
       "      <td>8.8</td>\n",
       "      <td>134</td>\n",
       "      <td>5500</td>\n",
       "      <td>18</td>\n",
       "      <td>23</td>\n",
       "      <td>21485.0</td>\n",
       "    </tr>\n",
       "    <tr>\n",
       "      <th>203</th>\n",
       "      <td>-1</td>\n",
       "      <td>volvo 246</td>\n",
       "      <td>diesel</td>\n",
       "      <td>turbo</td>\n",
       "      <td>four</td>\n",
       "      <td>sedan</td>\n",
       "      <td>rwd</td>\n",
       "      <td>front</td>\n",
       "      <td>109.1</td>\n",
       "      <td>188.8</td>\n",
       "      <td>...</td>\n",
       "      <td>145</td>\n",
       "      <td>idi</td>\n",
       "      <td>3.01</td>\n",
       "      <td>3.40</td>\n",
       "      <td>23.0</td>\n",
       "      <td>106</td>\n",
       "      <td>4800</td>\n",
       "      <td>26</td>\n",
       "      <td>27</td>\n",
       "      <td>22470.0</td>\n",
       "    </tr>\n",
       "    <tr>\n",
       "      <th>204</th>\n",
       "      <td>-1</td>\n",
       "      <td>volvo 264gl</td>\n",
       "      <td>gas</td>\n",
       "      <td>turbo</td>\n",
       "      <td>four</td>\n",
       "      <td>sedan</td>\n",
       "      <td>rwd</td>\n",
       "      <td>front</td>\n",
       "      <td>109.1</td>\n",
       "      <td>188.8</td>\n",
       "      <td>...</td>\n",
       "      <td>141</td>\n",
       "      <td>mpfi</td>\n",
       "      <td>3.78</td>\n",
       "      <td>3.15</td>\n",
       "      <td>9.5</td>\n",
       "      <td>114</td>\n",
       "      <td>5400</td>\n",
       "      <td>19</td>\n",
       "      <td>25</td>\n",
       "      <td>22625.0</td>\n",
       "    </tr>\n",
       "  </tbody>\n",
       "</table>\n",
       "<p>1025 rows × 25 columns</p>\n",
       "</div>"
      ],
      "text/plain": [
       "     symboling                      make fueltype aspiration doornumber  \\\n",
       "0            3        alfa-romero giulia      gas        std        two   \n",
       "1            3       alfa-romero stelvio      gas        std        two   \n",
       "2            1  alfa-romero Quadrifoglio      gas        std        two   \n",
       "3            2               audi 100 ls      gas        std       four   \n",
       "4            2                audi 100ls      gas        std       four   \n",
       "..         ...                       ...      ...        ...        ...   \n",
       "200         -1           volvo 145e (sw)      gas        std       four   \n",
       "201         -1               volvo 144ea      gas      turbo       four   \n",
       "202         -1               volvo 244dl      gas        std       four   \n",
       "203         -1                 volvo 246   diesel      turbo       four   \n",
       "204         -1               volvo 264gl      gas      turbo       four   \n",
       "\n",
       "         carbody drivewheel enginelocation  wheelbase  carlength  ...  \\\n",
       "0    convertible        rwd          front       88.6      168.8  ...   \n",
       "1    convertible        rwd          front       88.6      168.8  ...   \n",
       "2      hatchback        rwd          front       94.5      171.2  ...   \n",
       "3          sedan        fwd          front       99.8      176.6  ...   \n",
       "4          sedan        4wd          front       99.4      176.6  ...   \n",
       "..           ...        ...            ...        ...        ...  ...   \n",
       "200        sedan        rwd          front      109.1      188.8  ...   \n",
       "201        sedan        rwd          front      109.1      188.8  ...   \n",
       "202        sedan        rwd          front      109.1      188.8  ...   \n",
       "203        sedan        rwd          front      109.1      188.8  ...   \n",
       "204        sedan        rwd          front      109.1      188.8  ...   \n",
       "\n",
       "     enginesize  fuelsystem  boreratio stroke compressionratio  horsepower  \\\n",
       "0           130        mpfi       3.47   2.68              9.0         111   \n",
       "1           130        mpfi       3.47   2.68              9.0         111   \n",
       "2           152        mpfi       2.68   3.47              9.0         154   \n",
       "3           109        mpfi       3.19   3.40             10.0         102   \n",
       "4           136        mpfi       3.19   3.40              8.0         115   \n",
       "..          ...         ...        ...    ...              ...         ...   \n",
       "200         141        mpfi       3.78   3.15              9.5         114   \n",
       "201         141        mpfi       3.78   3.15              8.7         160   \n",
       "202         173        mpfi       3.58   2.87              8.8         134   \n",
       "203         145         idi       3.01   3.40             23.0         106   \n",
       "204         141        mpfi       3.78   3.15              9.5         114   \n",
       "\n",
       "    peakrpm  citympg  highwaympg    price  \n",
       "0      5000       21          27  13495.0  \n",
       "1      5000       21          27  16500.0  \n",
       "2      5000       19          26  16500.0  \n",
       "3      5500       24          30  13950.0  \n",
       "4      5500       18          22  17450.0  \n",
       "..      ...      ...         ...      ...  \n",
       "200    5400       23          28  16845.0  \n",
       "201    5300       19          25  19045.0  \n",
       "202    5500       18          23  21485.0  \n",
       "203    4800       26          27  22470.0  \n",
       "204    5400       19          25  22625.0  \n",
       "\n",
       "[1025 rows x 25 columns]"
      ]
     },
     "execution_count": 92,
     "metadata": {},
     "output_type": "execute_result"
    }
   ],
   "source": [
    "df"
   ]
  },
  {
   "cell_type": "markdown",
   "id": "4da2cb07",
   "metadata": {},
   "source": [
    " ### drivewheel=  four-wheel drive, front-wheel drive, and rear-wheel drive."
   ]
  },
  {
   "cell_type": "code",
   "execution_count": 94,
   "id": "159e9741",
   "metadata": {},
   "outputs": [
    {
     "data": {
      "text/plain": [
       "fwd    600\n",
       "rwd    380\n",
       "4wd     45\n",
       "Name: drivewheel, dtype: int64"
      ]
     },
     "execution_count": 94,
     "metadata": {},
     "output_type": "execute_result"
    }
   ],
   "source": [
    "df['drivewheel'].value_counts()"
   ]
  },
  {
   "cell_type": "markdown",
   "id": "f7cf799e",
   "metadata": {},
   "source": [
    "This means we can categorise the variable into three groups which are front wheel, rear-wheel, and four wheel.\n",
    "Instead of just getting numbers we could use graphs such as pie charts and barcharts to easily see the differences and interpret them."
   ]
  },
  {
   "cell_type": "code",
   "execution_count": 96,
   "id": "6ba49056",
   "metadata": {
    "scrolled": true
   },
   "outputs": [
    {
     "data": {
      "text/plain": [
       "<AxesSubplot:title={'center':'Type of drive wheel'}, ylabel='drivewheel'>"
      ]
     },
     "execution_count": 96,
     "metadata": {},
     "output_type": "execute_result"
    },
    {
     "data": {
      "image/png": "[encoded data removed]",
      "text/plain": [
       "<Figure size 432x288 with 1 Axes>"
      ]
     },
     "metadata": {},
     "output_type": "display_data"
    }
   ],
   "source": [
    "df['drivewheel'].value_counts().plot(kind='pie', title='Type of drive wheel')"
   ]
  },
  {
   "cell_type": "markdown",
   "id": "2c3bc825",
   "metadata": {},
   "source": [
    "Front Wheel takes up the majority of the piechart which means that most cars have a foward drive wheel system."
   ]
  },
  {
   "cell_type": "markdown",
   "id": "dfcae8ef",
   "metadata": {},
   "source": [
    "-------"
   ]
  },
  {
   "cell_type": "markdown",
   "id": "377509e0",
   "metadata": {},
   "source": [
    "### Car body type= sedan, hatchback, wagon, hardtop, and convertable"
   ]
  },
  {
   "cell_type": "code",
   "execution_count": 184,
   "id": "f7ddff9f",
   "metadata": {},
   "outputs": [
    {
     "data": {
      "text/plain": [
       "sedan          0.468293\n",
       "hatchback      0.341463\n",
       "wagon          0.121951\n",
       "hardtop        0.039024\n",
       "convertible    0.029268\n",
       "Name: carbody, dtype: float64"
      ]
     },
     "execution_count": 184,
     "metadata": {},
     "output_type": "execute_result"
    }
   ],
   "source": [
    "df['carbody'].value_counts(normalize=True)"
   ]
  },
  {
   "cell_type": "markdown",
   "id": "b97124ed",
   "metadata": {},
   "source": [
    "This shows the percentages of the occurance of each type of car body."
   ]
  },
  {
   "cell_type": "code",
   "execution_count": 190,
   "id": "2d7c8ade",
   "metadata": {},
   "outputs": [
    {
     "data": {
      "text/plain": [
       "<AxesSubplot:title={'center':'probabilities of car bodies'}>"
      ]
     },
     "execution_count": 190,
     "metadata": {},
     "output_type": "execute_result"
    },
    {
     "data": {
      "image/png": "[encoded data removed]",
      "text/plain": [
       "<Figure size 432x288 with 1 Axes>"
      ]
     },
     "metadata": {
      "needs_background": "light"
     },
     "output_type": "display_data"
    }
   ],
   "source": [
    "df['carbody'].value_counts(normalize=True).plot(kind='bar', title= 'probabilities of car bodies')"
   ]
  },
  {
   "cell_type": "markdown",
   "id": "8e0888f9",
   "metadata": {},
   "source": [
    "Clearly, Sedan is the most used type of car body out of all other types, followed by hatchback. \n",
    "While, on the other hand the convertable types are the rareset."
   ]
  },
  {
   "cell_type": "markdown",
   "id": "9b92a23f",
   "metadata": {},
   "source": [
    "#### Number of doors vs The body of the car "
   ]
  },
  {
   "cell_type": "code",
   "execution_count": 117,
   "id": "0ae12d19",
   "metadata": {},
   "outputs": [
    {
     "data": {
      "text/html": [
       "<div>\n",
       "<style scoped>\n",
       "    .dataframe tbody tr th:only-of-type {\n",
       "        vertical-align: middle;\n",
       "    }\n",
       "\n",
       "    .dataframe tbody tr th {\n",
       "        vertical-align: top;\n",
       "    }\n",
       "\n",
       "    .dataframe thead th {\n",
       "        text-align: right;\n",
       "    }\n",
       "</style>\n",
       "<table border=\"1\" class=\"dataframe\">\n",
       "  <thead>\n",
       "    <tr style=\"text-align: right;\">\n",
       "      <th>doornumber</th>\n",
       "      <th>four</th>\n",
       "      <th>two</th>\n",
       "    </tr>\n",
       "    <tr>\n",
       "      <th>carbody</th>\n",
       "      <th></th>\n",
       "      <th></th>\n",
       "    </tr>\n",
       "  </thead>\n",
       "  <tbody>\n",
       "    <tr>\n",
       "      <th>convertible</th>\n",
       "      <td>0</td>\n",
       "      <td>30</td>\n",
       "    </tr>\n",
       "    <tr>\n",
       "      <th>hardtop</th>\n",
       "      <td>0</td>\n",
       "      <td>40</td>\n",
       "    </tr>\n",
       "    <tr>\n",
       "      <th>hatchback</th>\n",
       "      <td>50</td>\n",
       "      <td>300</td>\n",
       "    </tr>\n",
       "    <tr>\n",
       "      <th>sedan</th>\n",
       "      <td>400</td>\n",
       "      <td>80</td>\n",
       "    </tr>\n",
       "    <tr>\n",
       "      <th>wagon</th>\n",
       "      <td>125</td>\n",
       "      <td>0</td>\n",
       "    </tr>\n",
       "  </tbody>\n",
       "</table>\n",
       "</div>"
      ],
      "text/plain": [
       "doornumber   four  two\n",
       "carbody               \n",
       "convertible     0   30\n",
       "hardtop         0   40\n",
       "hatchback      50  300\n",
       "sedan         400   80\n",
       "wagon         125    0"
      ]
     },
     "execution_count": 117,
     "metadata": {},
     "output_type": "execute_result"
    }
   ],
   "source": [
    "o= pd.crosstab(df['carbody'], df['doornumber'])\n",
    "o"
   ]
  },
  {
   "cell_type": "code",
   "execution_count": 112,
   "id": "726c522a",
   "metadata": {
    "scrolled": true
   },
   "outputs": [
    {
     "data": {
      "text/plain": [
       "<AxesSubplot:ylabel='carbody,doornumber'>"
      ]
     },
     "execution_count": 112,
     "metadata": {},
     "output_type": "execute_result"
    },
    {
     "data": {
      "image/png": "[encoded data removed]",
      "text/plain": [
       "<Figure size 432x288 with 1 Axes>"
      ]
     },
     "metadata": {
      "needs_background": "light"
     },
     "output_type": "display_data"
    }
   ],
   "source": [
    "df[['carbody','doornumber']].value_counts().plot(kind='barh')"
   ]
  },
  {
   "cell_type": "code",
   "execution_count": 222,
   "id": "3a229ce9",
   "metadata": {},
   "outputs": [
    {
     "data": {
      "image/png": "[encoded data removed]",
      "text/plain": [
       "<Figure size 432x288 with 3 Axes>"
      ]
     },
     "metadata": {
      "needs_background": "light"
     },
     "output_type": "display_data"
    }
   ],
   "source": [
    "from statsmodels.graphics.mosaicplot import mosaic\n",
    "mosaic(df, ['carbody', 'doornumber'], title= ' carbody vs door number')\n",
    "plt.show()"
   ]
  },
  {
   "cell_type": "markdown",
   "id": "e0392baf",
   "metadata": {},
   "source": [
    "Hatchback and sedan are the only two types of cars that can be made with both 2 or 4 doors. However, hatchbacks are more likely designed with 2 doors; while sedan is far less likely designed with 2 doors."
   ]
  },
  {
   "cell_type": "markdown",
   "id": "8f47b988",
   "metadata": {},
   "source": [
    "#### Fuel type vs Engine location"
   ]
  },
  {
   "cell_type": "code",
   "execution_count": 210,
   "id": "627889a7",
   "metadata": {},
   "outputs": [
    {
     "data": {
      "text/html": [
       "<div>\n",
       "<style scoped>\n",
       "    .dataframe tbody tr th:only-of-type {\n",
       "        vertical-align: middle;\n",
       "    }\n",
       "\n",
       "    .dataframe tbody tr th {\n",
       "        vertical-align: top;\n",
       "    }\n",
       "\n",
       "    .dataframe thead th {\n",
       "        text-align: right;\n",
       "    }\n",
       "</style>\n",
       "<table border=\"1\" class=\"dataframe\">\n",
       "  <thead>\n",
       "    <tr style=\"text-align: right;\">\n",
       "      <th>enginelocation</th>\n",
       "      <th>front</th>\n",
       "      <th>rear</th>\n",
       "    </tr>\n",
       "    <tr>\n",
       "      <th>fueltype</th>\n",
       "      <th></th>\n",
       "      <th></th>\n",
       "    </tr>\n",
       "  </thead>\n",
       "  <tbody>\n",
       "    <tr>\n",
       "      <th>diesel</th>\n",
       "      <td>100</td>\n",
       "      <td>0</td>\n",
       "    </tr>\n",
       "    <tr>\n",
       "      <th>gas</th>\n",
       "      <td>910</td>\n",
       "      <td>15</td>\n",
       "    </tr>\n",
       "  </tbody>\n",
       "</table>\n",
       "</div>"
      ],
      "text/plain": [
       "enginelocation  front  rear\n",
       "fueltype                   \n",
       "diesel            100     0\n",
       "gas               910    15"
      ]
     },
     "execution_count": 210,
     "metadata": {},
     "output_type": "execute_result"
    }
   ],
   "source": [
    "pd.crosstab(df['fueltype'], df['enginelocation'])"
   ]
  },
  {
   "cell_type": "code",
   "execution_count": 212,
   "id": "090f0980",
   "metadata": {},
   "outputs": [
    {
     "data": {
      "text/plain": [
       "<AxesSubplot:xlabel='fueltype,enginelocation'>"
      ]
     },
     "execution_count": 212,
     "metadata": {},
     "output_type": "execute_result"
    },
    {
     "data": {
      "image/png": "[encoded data removed]",
      "text/plain": [
       "<Figure size 432x288 with 1 Axes>"
      ]
     },
     "metadata": {
      "needs_background": "light"
     },
     "output_type": "display_data"
    }
   ],
   "source": [
    "df[['fueltype','enginelocation']].value_counts().plot(kind='bar')"
   ]
  },
  {
   "cell_type": "markdown",
   "id": "6f75f0ce",
   "metadata": {},
   "source": [
    "As you can see most cars who have a front engine location work with gas and not deisel. In addition, there is not a single car where the engine is placed at the back and uses fuel type diesel. "
   ]
  },
  {
   "cell_type": "code",
   "execution_count": 150,
   "id": "502b77d8",
   "metadata": {},
   "outputs": [
    {
     "name": "stdout",
     "output_type": "stream",
     "text": [
      "A 2x2 contingency table with counts:\n",
      "[[1.0e+02 5.0e-01]\n",
      " [9.1e+02 1.5e+01]]\n",
      "0.38037245860225666\n"
     ]
    }
   ],
   "source": [
    "o= pd.crosstab(df['fueltype'], df['enginelocation'])\n",
    "o\n",
    "import statsmodels.api as sm\n",
    "Table = sm.stats.Table(o)\n",
    "print(Table)\n",
    "Table.table\n",
    "Table.fittedvalues\n",
    "Table.resid_pearson\n",
    "rslt= Table.test_nominal_association()\n",
    "print(rslt.pvalue)"
   ]
  },
  {
   "cell_type": "code",
   "execution_count": 151,
   "id": "bc3a0baa",
   "metadata": {
    "scrolled": true
   },
   "outputs": [
    {
     "data": {
      "image/png": "[encoded data removed]",
      "text/plain": [
       "<Figure size 432x288 with 3 Axes>"
      ]
     },
     "metadata": {
      "needs_background": "light"
     },
     "output_type": "display_data"
    }
   ],
   "source": [
    "from statsmodels.graphics.mosaicplot import mosaic\n",
    "mosaic(df, ['fueltype', 'enginelocation'])\n",
    "plt.show()"
   ]
  },
  {
   "cell_type": "markdown",
   "id": "7c01c5e9",
   "metadata": {},
   "source": [
    "The p-value is 0.3804, which is greater than 0.05. This shows that there is no correlation between fuel type and engine location, whether it is the front or the back of a car. In other words, we agree with the null hypothesis that there arn't related."
   ]
  },
  {
   "cell_type": "markdown",
   "id": "34e632b5",
   "metadata": {},
   "source": [
    "----"
   ]
  },
  {
   "cell_type": "markdown",
   "id": "248c58ae",
   "metadata": {},
   "source": [
    "### Fuel type vs engine location"
   ]
  },
  {
   "cell_type": "code",
   "execution_count": 218,
   "id": "b8d6c988",
   "metadata": {
    "scrolled": true
   },
   "outputs": [
    {
     "data": {
      "text/html": [
       "<div>\n",
       "<style scoped>\n",
       "    .dataframe tbody tr th:only-of-type {\n",
       "        vertical-align: middle;\n",
       "    }\n",
       "\n",
       "    .dataframe tbody tr th {\n",
       "        vertical-align: top;\n",
       "    }\n",
       "\n",
       "    .dataframe thead th {\n",
       "        text-align: right;\n",
       "    }\n",
       "</style>\n",
       "<table border=\"1\" class=\"dataframe\">\n",
       "  <thead>\n",
       "    <tr style=\"text-align: right;\">\n",
       "      <th>enginelocation</th>\n",
       "      <th>front</th>\n",
       "      <th>rear</th>\n",
       "    </tr>\n",
       "    <tr>\n",
       "      <th>fuelsystem</th>\n",
       "      <th></th>\n",
       "      <th></th>\n",
       "    </tr>\n",
       "  </thead>\n",
       "  <tbody>\n",
       "    <tr>\n",
       "      <th>1bbl</th>\n",
       "      <td>55</td>\n",
       "      <td>0</td>\n",
       "    </tr>\n",
       "    <tr>\n",
       "      <th>2bbl</th>\n",
       "      <td>330</td>\n",
       "      <td>0</td>\n",
       "    </tr>\n",
       "    <tr>\n",
       "      <th>4bbl</th>\n",
       "      <td>15</td>\n",
       "      <td>0</td>\n",
       "    </tr>\n",
       "    <tr>\n",
       "      <th>idi</th>\n",
       "      <td>100</td>\n",
       "      <td>0</td>\n",
       "    </tr>\n",
       "    <tr>\n",
       "      <th>mfi</th>\n",
       "      <td>5</td>\n",
       "      <td>0</td>\n",
       "    </tr>\n",
       "    <tr>\n",
       "      <th>mpfi</th>\n",
       "      <td>455</td>\n",
       "      <td>15</td>\n",
       "    </tr>\n",
       "    <tr>\n",
       "      <th>spdi</th>\n",
       "      <td>45</td>\n",
       "      <td>0</td>\n",
       "    </tr>\n",
       "    <tr>\n",
       "      <th>spfi</th>\n",
       "      <td>5</td>\n",
       "      <td>0</td>\n",
       "    </tr>\n",
       "  </tbody>\n",
       "</table>\n",
       "</div>"
      ],
      "text/plain": [
       "enginelocation  front  rear\n",
       "fuelsystem                 \n",
       "1bbl               55     0\n",
       "2bbl              330     0\n",
       "4bbl               15     0\n",
       "idi               100     0\n",
       "mfi                 5     0\n",
       "mpfi              455    15\n",
       "spdi               45     0\n",
       "spfi                5     0"
      ]
     },
     "execution_count": 218,
     "metadata": {},
     "output_type": "execute_result"
    }
   ],
   "source": [
    "o= pd.crosstab(df['fuelsystem'], df['enginelocation'])\n",
    "o"
   ]
  },
  {
   "cell_type": "markdown",
   "id": "4cd283d8",
   "metadata": {},
   "source": [
    "Note that the engine is not located in the frontg only when the fuel system is mpfi"
   ]
  },
  {
   "cell_type": "code",
   "execution_count": 214,
   "id": "13a344cb",
   "metadata": {},
   "outputs": [
    {
     "name": "stdout",
     "output_type": "stream",
     "text": [
      "A 8x2 contingency table with counts:\n",
      "[[ 55.    0.5]\n",
      " [330.    0.5]\n",
      " [ 15.    0.5]\n",
      " [100.    0.5]\n",
      " [  5.    0.5]\n",
      " [455.   15. ]\n",
      " [ 45.    0.5]\n",
      " [  5.    0.5]]\n",
      "0.03508084709462367\n"
     ]
    }
   ],
   "source": [
    "o= pd.crosstab(df['fuelsystem'], df['enginelocation'])\n",
    "o\n",
    "import statsmodels.api as sm\n",
    "Table = sm.stats.Table(o)\n",
    "print(Table)\n",
    "Table.table\n",
    "Table.fittedvalues\n",
    "Table.resid_pearson\n",
    "rslt= Table.test_nominal_association()\n",
    "print(rslt.pvalue)"
   ]
  },
  {
   "cell_type": "markdown",
   "id": "3da6a211",
   "metadata": {},
   "source": [
    "The p-value is less than 0.05; therefore, we reject the null hypothesis and we can conclude that the fuel system and enginelocations are somehow correlated. "
   ]
  },
  {
   "cell_type": "markdown",
   "id": "31a702b7",
   "metadata": {},
   "source": [
    "--------"
   ]
  },
  {
   "cell_type": "markdown",
   "id": "808eb6a5",
   "metadata": {},
   "source": [
    "Thank you ❤️"
   ]
  }
 ],
 "metadata": {
  "kernelspec": {
   "display_name": "Python 3 (ipykernel)",
   "language": "python",
   "name": "python3"
  },
  "language_info": {
   "codemirror_mode": {
    "name": "ipython",
    "version": 3
   },
   "file_extension": ".py",
   "mimetype": "text/x-python",
   "name": "python",
   "nbconvert_exporter": "python",
   "pygments_lexer": "ipython3",
   "version": "3.9.7"
  }
 },
 "nbformat": 4,
 "nbformat_minor": 5
}
